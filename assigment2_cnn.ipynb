{
 "cells": [
  {
   "cell_type": "code",
   "execution_count": 1,
   "metadata": {},
   "outputs": [
    {
     "name": "stderr",
     "output_type": "stream",
     "text": [
      "2025-03-03 16:40:34.333255: I tensorflow/core/util/port.cc:110] oneDNN custom operations are on. You may see slightly different numerical results due to floating-point round-off errors from different computation orders. To turn them off, set the environment variable `TF_ENABLE_ONEDNN_OPTS=0`.\n",
      "2025-03-03 16:40:34.334986: I tensorflow/tsl/cuda/cudart_stub.cc:28] Could not find cuda drivers on your machine, GPU will not be used.\n",
      "2025-03-03 16:40:34.364441: I tensorflow/tsl/cuda/cudart_stub.cc:28] Could not find cuda drivers on your machine, GPU will not be used.\n",
      "2025-03-03 16:40:34.364865: I tensorflow/core/platform/cpu_feature_guard.cc:182] This TensorFlow binary is optimized to use available CPU instructions in performance-critical operations.\n",
      "To enable the following instructions: AVX2 AVX512F AVX512_VNNI AVX512_BF16 FMA, in other operations, rebuild TensorFlow with the appropriate compiler flags.\n",
      "2025-03-03 16:40:35.363583: W tensorflow/compiler/tf2tensorrt/utils/py_utils.cc:38] TF-TRT Warning: Could not find TensorRT\n"
     ]
    }
   ],
   "source": [
    "# !pip install tensorflow==2.12.0 tensorflow-probability==0.20.0\n",
    "\n",
    "import tensorflow as tf\n",
    "import tensorflow.keras as keras\n",
    "import pandas as pd\n",
    "fmnist = tf.keras.datasets.fashion_mnist\n",
    "\n",
    "# split data between train and validation sets\n",
    "(x_train, y_train), (x_valid, y_valid) = fmnist.load_data()\n",
    "# Turn our scalar targets into binary categories\n",
    "num_classes = 24\n",
    "y_train = keras.utils.to_categorical(y_train, num_classes)\n",
    "y_valid = keras.utils.to_categorical(y_valid, num_classes)\n",
    "\n",
    "# Normalize our image data\n",
    "x_train = x_train / 255\n",
    "x_valid = x_valid / 255\n",
    "\n",
    "# reshape to 28x28\n",
    "x_train = x_train.reshape(-1,28,28,1)\n",
    "x_valid = x_valid.reshape(-1,28,28,1)"
   ]
  },
  {
   "cell_type": "code",
   "execution_count": null,
   "metadata": {},
   "outputs": [],
   "source": [
    "from tensorflow.keras.models import Sequential\n",
    "from tensorflow.keras.layers import (\n",
    "    Dense,\n",
    "    Conv2D,\n",
    "    MaxPool2D,\n",
    "    Flatten,\n",
    "    Dropout,\n",
    "    BatchNormalization,\n",
    ")\n",
    "\n",
    "model = Sequential()\n",
    "model.add(Conv2D(75, (5, 5), strides=1, padding=\"same\", activation=\"relu\",\n",
    "                 input_shape=(28, 28, 1)))\n",
    "model.add(BatchNormalization())\n",
    "model.add(MaxPool2D((2, 2), strides=1, padding=\"same\"))\n",
    "model.add(Conv2D(50, (5, 5), strides=1, padding=\"same\", activation=\"relu\"))\n",
    "model.add(Dropout(0.3))\n",
    "model.add(BatchNormalization())\n",
    "model.add(MaxPool2D((2, 2), strides=1, padding=\"same\"))\n",
    "model.add(Conv2D(25, (5, 5), strides=1, padding=\"same\", activation=\"relu\"))\n",
    "model.add(BatchNormalization())\n",
    "model.add(MaxPool2D((2, 2), strides=1, padding=\"same\"))\n",
    "model.add(Flatten())\n",
    "model.add(Dense(units=1028, activation=\"relu\"))\n",
    "model.add(Dropout(0.3))\n",
    "model.add(Dense(units=num_classes, activation=\"softmax\"))"
   ]
  },
  {
   "cell_type": "code",
   "execution_count": null,
   "metadata": {},
   "outputs": [
    {
     "name": "stdout",
     "output_type": "stream",
     "text": [
      "Model: \"sequential_3\"\n",
      "_________________________________________________________________\n",
      " Layer (type)                Output Shape              Param #   \n",
      "=================================================================\n",
      " conv2d_9 (Conv2D)           (None, 28, 28, 75)        3750      \n",
      "                                                                 \n",
      " batch_normalization_9 (Batc  (None, 28, 28, 75)       300       \n",
      " hNormalization)                                                 \n",
      "                                                                 \n",
      " max_pooling2d_9 (MaxPooling  (None, 28, 28, 75)       0         \n",
      " 2D)                                                             \n",
      "                                                                 \n",
      " conv2d_10 (Conv2D)          (None, 28, 28, 50)        183800    \n",
      "                                                                 \n",
      " dropout_6 (Dropout)         (None, 28, 28, 50)        0         \n",
      "                                                                 \n",
      " batch_normalization_10 (Bat  (None, 28, 28, 50)       200       \n",
      " chNormalization)                                                \n",
      "                                                                 \n",
      " max_pooling2d_10 (MaxPoolin  (None, 28, 28, 50)       0         \n",
      " g2D)                                                            \n",
      "                                                                 \n",
      " conv2d_11 (Conv2D)          (None, 28, 28, 25)        61275     \n",
      "                                                                 \n",
      " batch_normalization_11 (Bat  (None, 28, 28, 25)       100       \n",
      " chNormalization)                                                \n",
      "                                                                 \n",
      " max_pooling2d_11 (MaxPoolin  (None, 28, 28, 25)       0         \n",
      " g2D)                                                            \n",
      "                                                                 \n",
      " flatten_3 (Flatten)         (None, 19600)             0         \n",
      "                                                                 \n",
      " dense_6 (Dense)             (None, 1028)              20149828  \n",
      "                                                                 \n",
      " dropout_7 (Dropout)         (None, 1028)              0         \n",
      "                                                                 \n",
      " dense_7 (Dense)             (None, 24)                24696     \n",
      "                                                                 \n",
      "=================================================================\n",
      "Total params: 20,423,949\n",
      "Trainable params: 20,423,649\n",
      "Non-trainable params: 300\n",
      "_________________________________________________________________\n",
      "Epoch 1/5\n",
      "1875/1875 [==============================] - 134s 71ms/step - loss: 1.0456 - accuracy: 0.7810 - val_loss: 0.4660 - val_accuracy: 0.8421\n",
      "Epoch 2/5\n",
      "1875/1875 [==============================] - 134s 71ms/step - loss: 0.4761 - accuracy: 0.8443 - val_loss: 0.3770 - val_accuracy: 0.8679\n",
      "Epoch 3/5\n",
      "1875/1875 [==============================] - 133s 71ms/step - loss: 0.4119 - accuracy: 0.8622 - val_loss: 0.4898 - val_accuracy: 0.8413\n",
      "Epoch 4/5\n",
      "1875/1875 [==============================] - 130s 69ms/step - loss: 0.3505 - accuracy: 0.8775 - val_loss: 0.2963 - val_accuracy: 0.8926\n",
      "Epoch 5/5\n",
      " 561/1875 [=======>......................] - ETA: 1:28 - loss: 0.2914 - accuracy: 0.8942"
     ]
    }
   ],
   "source": [
    "model.summary()\n",
    "model.compile(loss=\"categorical_crossentropy\", metrics=[\"accuracy\"])\n",
    "model.fit(x_train, y_train, epochs=5, verbose=1, validation_data=(x_valid, y_valid))\n"
   ]
  }
 ],
 "metadata": {
  "kernelspec": {
   "display_name": "Python 3",
   "language": "python",
   "name": "python3"
  },
  "language_info": {
   "codemirror_mode": {
    "name": "ipython",
    "version": 3
   },
   "file_extension": ".py",
   "mimetype": "text/x-python",
   "name": "python",
   "nbconvert_exporter": "python",
   "pygments_lexer": "ipython3",
   "version": "3.10.12"
  }
 },
 "nbformat": 4,
 "nbformat_minor": 2
}
